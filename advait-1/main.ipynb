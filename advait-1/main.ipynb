{
 "cells": [
  {
   "cell_type": "code",
   "execution_count": 34,
   "metadata": {},
   "outputs": [],
   "source": [
    "import datetime\n",
    "import numpy as np\n",
    "import ast"
   ]
  },
  {
   "cell_type": "code",
   "execution_count": 28,
   "metadata": {},
   "outputs": [],
   "source": [
    "class Author:\n",
    "    def __init__(self, ORCID):\n",
    "        self.ID = ORCID"
   ]
  },
  {
   "cell_type": "code",
   "execution_count": 29,
   "metadata": {},
   "outputs": [],
   "source": [
    "class Content:\n",
    "    def __init__(self, DOI):\n",
    "        self.ID = DOI\n",
    "        self.timestamp = datetime.datetime.now()\n",
    "        self.value = None\n",
    "        self.provenance = []\n",
    "        self.references = []\n",
    "\n",
    "    def set_provenance(self, provenance: list[Author, \"Content\"]):\n",
    "        self.provenance = provenance\n",
    "\n",
    "    def set_references(self, references: list[\"Content\"]):\n",
    "        self.references = references"
   ]
  },
  {
   "cell_type": "code",
   "execution_count": 30,
   "metadata": {},
   "outputs": [],
   "source": [
    "class Observation(Content):\n",
    "    def __init__(self, DOI):\n",
    "        super().__init__(DOI)\n",
    "        self.uncertainty = {}\n",
    "\n",
    "    def set_value(self, value: dict, uncertainty: dict):\n",
    "        self.value = value\n",
    "        self.uncertainty = uncertainty"
   ]
  },
  {
   "cell_type": "code",
   "execution_count": 31,
   "metadata": {},
   "outputs": [],
   "source": [
    "class Test(Content):\n",
    "    def __init__(self, DOI):\n",
    "        super().__init__(DOI)\n",
    "\n",
    "    def set_test_function(self, test_function: callable):\n",
    "        self.value = test_function\n",
    "\n",
    "    def run(self, hypothesis_expression: str, observations: list[Observation]):\n",
    "        o, c = self.value(hypothesis_expression, observations)\n",
    "        return {\n",
    "            \"outcome\": o,\n",
    "            \"confidence\": c,\n",
    "        }"
   ]
  },
  {
   "cell_type": "code",
   "execution_count": 32,
   "metadata": {},
   "outputs": [],
   "source": [
    "class Hypothesis(Content):\n",
    "    def __init__(self, DOI):\n",
    "        super().__init__(DOI)\n",
    "        self.tests = []\n",
    "\n",
    "    def set_expression(self, hypothesis_expression: str):\n",
    "        self.value = hypothesis_expression\n",
    "\n",
    "    def test(self, test: Test, observations: list[Observation]):\n",
    "        self.tests.append(\n",
    "            {\n",
    "                \"timestamp\": datetime.datetime.now(),\n",
    "                \"test\": test.ID,\n",
    "                \"observations\": [o.ID for o in observations],\n",
    "                \"result\": test.run(self.value, observations),\n",
    "            }\n",
    "        )"
   ]
  },
  {
   "cell_type": "code",
   "execution_count": 33,
   "metadata": {},
   "outputs": [],
   "source": [
    "class Comment(Content):\n",
    "    def __init__(self, DOI):\n",
    "        super().__init__(DOI)\n",
    "\n",
    "    def set_text(self, text: str):\n",
    "        self.value = text"
   ]
  },
  {
   "cell_type": "markdown",
   "metadata": {},
   "source": [
    "# Simulations"
   ]
  },
  {
   "cell_type": "markdown",
   "metadata": {},
   "source": [
    "Imagine a simple example system with 6 degrees of freedom, each of which can adopt one of N discrete states. The state space of the system has $N^6$ states. The ground truth of the system is a probability distribution over these $N^6$ states."
   ]
  },
  {
   "cell_type": "code",
   "execution_count": 25,
   "metadata": {},
   "outputs": [],
   "source": [
    "N = 4\n",
    "\n",
    "e1 = np.arange(N)\n",
    "e2 = np.arange(N)\n",
    "e3 = np.arange(N)\n",
    "e4 = np.arange(N)\n",
    "e5 = np.arange(N)\n",
    "e6 = np.arange(N)\n",
    "\n",
    "state_space = np.array(np.meshgrid(e1, e2, e3, e4, e5, e6))"
   ]
  },
  {
   "cell_type": "code",
   "execution_count": 26,
   "metadata": {},
   "outputs": [],
   "source": [
    "ground_truth = np.random.random(state_space.shape)\n",
    "ground_truth /= ground_truth.sum()"
   ]
  },
  {
   "cell_type": "code",
   "execution_count": 35,
   "metadata": {},
   "outputs": [],
   "source": [
    "h1 = Hypothesis(\"h1\")\n",
    "h1.set_expression()"
   ]
  },
  {
   "cell_type": "code",
   "execution_count": 38,
   "metadata": {},
   "outputs": [],
   "source": [
    "v = h1.value"
   ]
  },
  {
   "cell_type": "code",
   "execution_count": null,
   "metadata": {},
   "outputs": [],
   "source": [
    "o1 = Observation(\"o1\")\n",
    "o1.set_value(\n",
    "    value={\n",
    "        \"x1\": 0, \"x2\": 1, \"x3\": 2, \"x4\": 3, \"x5\": 2, \"x6\": 1\n",
    "        },\n",
    "    uncertainty={\n",
    "        \"x1\": 0.1, \"x2\": 0.1, \"x3\": 0.1, \"x4\": 0.1, \"x5\": 0.1, \"x6\": 0.1\n",
    "        }\n",
    "    )"
   ]
  },
  {
   "cell_type": "code",
   "execution_count": null,
   "metadata": {},
   "outputs": [],
   "source": [
    "t1 = Test(\"t1\")\n"
   ]
  }
 ],
 "metadata": {
  "kernelspec": {
   "display_name": "web",
   "language": "python",
   "name": "web"
  },
  "language_info": {
   "codemirror_mode": {
    "name": "ipython",
    "version": 3
   },
   "file_extension": ".py",
   "mimetype": "text/x-python",
   "name": "python",
   "nbconvert_exporter": "python",
   "pygments_lexer": "ipython3",
   "version": "3.12.0"
  }
 },
 "nbformat": 4,
 "nbformat_minor": 2
}
