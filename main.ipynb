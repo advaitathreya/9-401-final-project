{
 "cells": [
  {
   "cell_type": "code",
   "execution_count": null,
   "metadata": {},
   "outputs": [],
   "source": [
    "import datetime"
   ]
  },
  {
   "cell_type": "code",
   "execution_count": null,
   "metadata": {},
   "outputs": [],
   "source": [
    "class Author:\n",
    "    \"\"\"\n",
    "    An Author is an individal identified by an ORCID.\n",
    "    \"\"\"\n",
    "\n",
    "    def __init__(self, ORCID):\n",
    "        self.ID = ORCID"
   ]
  },
  {
   "cell_type": "code",
   "execution_count": null,
   "metadata": {},
   "outputs": [],
   "source": [
    "class Content:\n",
    "    \"\"\"\n",
    "    A Content is any digital object identified by a DOI.\n",
    "    A Content has an associated provenance which is a list of Author and/or Content objects that this Content derives from.\n",
    "    A Content has a value which is any Python object that represents the content of the Content.\n",
    "    A Content has a timestamp which is the time at which the Content was created.\n",
    "    \"\"\"\n",
    "\n",
    "    def __init__(self, DOI, value=None, provenance=None):\n",
    "        self.ID = DOI\n",
    "        self.value = value\n",
    "        self.provenance = provenance\n",
    "        self.timestamp = datetime.datetime.now()"
   ]
  },
  {
   "cell_type": "code",
   "execution_count": null,
   "metadata": {},
   "outputs": [],
   "source": [
    "class Observation(Content):\n",
    "    def __init__(self, DOI, value=None, provenance=None, uncertainty=None):\n",
    "        super().__init__(DOI, value, provenance)\n",
    "        self.uncertainty = uncertainty"
   ]
  },
  {
   "cell_type": "code",
   "execution_count": null,
   "metadata": {},
   "outputs": [],
   "source": [
    "class Test(Content):\n",
    "    def __init__(self, DOI, value=None, provenance=None):\n",
    "        super().__init__(DOI, value, provenance)\n",
    "\n",
    "    def run(self, hypothesis: Hypothesis, observations: list[Observation]):\n",
    "        return {\n",
    "            \"outcome\": None,\n",
    "            \"confidence\": None,\n",
    "        }"
   ]
  },
  {
   "cell_type": "code",
   "execution_count": null,
   "metadata": {},
   "outputs": [],
   "source": [
    "class Hypothesis(Content):\n",
    "    def __init__(self, DOI, value=None, provenance=None):\n",
    "        super().__init__(DOI, value, provenance)\n",
    "        self.tests = []\n",
    "\n",
    "    def test(self, test: Test, observations: list[Observation]):\n",
    "        self.tests.append(\n",
    "            {\n",
    "                \"timestamp\": datetime.datetime.now(),\n",
    "                \"test\": test.ID,\n",
    "                \"observations\": [o.ID for o in observations],\n",
    "                \"result\": test.run(self, observations)\n",
    "            }\n",
    "        )"
   ]
  },
  {
   "cell_type": "code",
   "execution_count": null,
   "metadata": {},
   "outputs": [],
   "source": [
    "\"\"\"     \n",
    "       and associated with one or more authors.\n",
    "    Possible types of content include:\n",
    "        - dataset\n",
    "            - observations: e.g. raw data\n",
    "            - derived data: e.g. processed data\n",
    "        - software\n",
    "            - analysis: e.g. a computational workflow for processing raw data to generate derived data\n",
    "            - test: e.g. a statistical test of a hypothesis using a dataset\n",
    "\n",
    "        - hypotheses: e.g. a proposed model or idea\n",
    "        - analyses: e.g. a computational workflow to process raw data and generate derived data\n",
    "        - tests: e.g. a statistical test of a hypothesis using a dataset\n",
    "        - reviews.\n",
    "        \n",
    "\"\"\""
   ]
  }
 ],
 "metadata": {
  "kernelspec": {
   "display_name": "web",
   "language": "python",
   "name": "web"
  },
  "language_info": {
   "codemirror_mode": {
    "name": "ipython",
    "version": 3
   },
   "file_extension": ".py",
   "mimetype": "text/x-python",
   "name": "python",
   "nbconvert_exporter": "python",
   "pygments_lexer": "ipython3",
   "version": "3.12.0"
  }
 },
 "nbformat": 4,
 "nbformat_minor": 2
}
