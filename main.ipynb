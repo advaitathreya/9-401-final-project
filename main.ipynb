{
 "cells": [
  {
   "cell_type": "code",
   "execution_count": null,
   "metadata": {},
   "outputs": [],
   "source": [
    "import numpy as np\n",
    "import matplotlib.pyplot as plt\n",
    "from ipywidgets import interact\n",
    "%matplotlib widget"
   ]
  },
  {
   "cell_type": "code",
   "execution_count": null,
   "metadata": {},
   "outputs": [],
   "source": [
    "def interactive_plot(amplitude, frequency):\n",
    "\tx = np.linspace(0, 2 * np.pi, 1000)\n",
    "\ty = amplitude * np.sin(frequency * x)\n",
    "\tplt.figure(figsize=(8, 4))\n",
    "\tplt.plot(x, y)\n",
    "\tplt.xlabel('X-axis')\n",
    "\tplt.ylabel('Y-axis')\n",
    "\tplt.title('Interactive Sine Wave')\n",
    "\tplt.grid(True)\n",
    "\tplt.show()\n",
    "\n",
    "\n",
    "interact(interactive_plot, amplitude=(1, 5, 0.1), frequency=(1, 10, 0.1))"
   ]
  }
 ],
 "metadata": {
  "kernelspec": {
   "display_name": "web",
   "language": "python",
   "name": "web"
  },
  "language_info": {
   "codemirror_mode": {
    "name": "ipython",
    "version": 3
   },
   "file_extension": ".py",
   "mimetype": "text/x-python",
   "name": "python",
   "nbconvert_exporter": "python",
   "pygments_lexer": "ipython3",
   "version": "3.12.0"
  }
 },
 "nbformat": 4,
 "nbformat_minor": 2
}
